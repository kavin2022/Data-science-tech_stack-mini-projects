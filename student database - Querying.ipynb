{
 "cells": [
  {
   "cell_type": "code",
   "execution_count": 1,
   "id": "e3509982",
   "metadata": {},
   "outputs": [],
   "source": [
    "# importing necessary library\n",
    "import pymongo as py\n",
    "import pandas as pd"
   ]
  },
  {
   "cell_type": "code",
   "execution_count": 38,
   "id": "734c2f7f",
   "metadata": {},
   "outputs": [],
   "source": [
    "# connecting cluster to the client(python texteditor)\n",
    "connection_uri = input('Enter the mongodb connection uri : ')\n",
    "client = py.MongoClient(connection_uri)"
   ]
  },
  {
   "cell_type": "code",
   "execution_count": 37,
   "id": "0e0cbec1",
   "metadata": {
    "scrolled": true
   },
   "outputs": [],
   "source": [
    "# listing database names\n",
    "client.list_database_names()"
   ]
  },
  {
   "cell_type": "markdown",
   "id": "6467aaa4",
   "metadata": {},
   "source": [
    "### Importing documents into database"
   ]
  },
  {
   "cell_type": "code",
   "execution_count": 4,
   "id": "c52d288c",
   "metadata": {},
   "outputs": [
    {
     "data": {
      "text/html": [
       "<div>\n",
       "<style scoped>\n",
       "    .dataframe tbody tr th:only-of-type {\n",
       "        vertical-align: middle;\n",
       "    }\n",
       "\n",
       "    .dataframe tbody tr th {\n",
       "        vertical-align: top;\n",
       "    }\n",
       "\n",
       "    .dataframe thead th {\n",
       "        text-align: right;\n",
       "    }\n",
       "</style>\n",
       "<table border=\"1\" class=\"dataframe\">\n",
       "  <thead>\n",
       "    <tr style=\"text-align: right;\">\n",
       "      <th></th>\n",
       "      <th>_id</th>\n",
       "      <th>name</th>\n",
       "      <th>scores</th>\n",
       "    </tr>\n",
       "  </thead>\n",
       "  <tbody>\n",
       "    <tr>\n",
       "      <th>0</th>\n",
       "      <td>0</td>\n",
       "      <td>aimee Zank</td>\n",
       "      <td>[{'score': 1.463179736705023, 'type': 'exam'},...</td>\n",
       "    </tr>\n",
       "    <tr>\n",
       "      <th>1</th>\n",
       "      <td>1</td>\n",
       "      <td>Aurelia Menendez</td>\n",
       "      <td>[{'score': 60.06045071030959, 'type': 'exam'},...</td>\n",
       "    </tr>\n",
       "    <tr>\n",
       "      <th>2</th>\n",
       "      <td>2</td>\n",
       "      <td>Corliss Zuk</td>\n",
       "      <td>[{'score': 67.03077096065002, 'type': 'exam'},...</td>\n",
       "    </tr>\n",
       "    <tr>\n",
       "      <th>3</th>\n",
       "      <td>3</td>\n",
       "      <td>Bao Ziglar</td>\n",
       "      <td>[{'score': 71.64343899778332, 'type': 'exam'},...</td>\n",
       "    </tr>\n",
       "    <tr>\n",
       "      <th>4</th>\n",
       "      <td>4</td>\n",
       "      <td>Zachary Langlais</td>\n",
       "      <td>[{'score': 78.68385091304332, 'type': 'exam'},...</td>\n",
       "    </tr>\n",
       "    <tr>\n",
       "      <th>...</th>\n",
       "      <td>...</td>\n",
       "      <td>...</td>\n",
       "      <td>...</td>\n",
       "    </tr>\n",
       "    <tr>\n",
       "      <th>195</th>\n",
       "      <td>195</td>\n",
       "      <td>Linnie Weigel</td>\n",
       "      <td>[{'score': 52.44578368517977, 'type': 'exam'},...</td>\n",
       "    </tr>\n",
       "    <tr>\n",
       "      <th>196</th>\n",
       "      <td>196</td>\n",
       "      <td>Santiago Dollins</td>\n",
       "      <td>[{'score': 52.04052571137036, 'type': 'exam'},...</td>\n",
       "    </tr>\n",
       "    <tr>\n",
       "      <th>197</th>\n",
       "      <td>197</td>\n",
       "      <td>Tonisha Games</td>\n",
       "      <td>[{'score': 38.51269589995049, 'type': 'exam'},...</td>\n",
       "    </tr>\n",
       "    <tr>\n",
       "      <th>198</th>\n",
       "      <td>198</td>\n",
       "      <td>Timothy Harrod</td>\n",
       "      <td>[{'score': 11.9075674046519, 'type': 'exam'}, ...</td>\n",
       "    </tr>\n",
       "    <tr>\n",
       "      <th>199</th>\n",
       "      <td>199</td>\n",
       "      <td>Rae Kohout</td>\n",
       "      <td>[{'score': 82.11742562118049, 'type': 'exam'},...</td>\n",
       "    </tr>\n",
       "  </tbody>\n",
       "</table>\n",
       "<p>200 rows × 3 columns</p>\n",
       "</div>"
      ],
      "text/plain": [
       "     _id              name                                             scores\n",
       "0      0        aimee Zank  [{'score': 1.463179736705023, 'type': 'exam'},...\n",
       "1      1  Aurelia Menendez  [{'score': 60.06045071030959, 'type': 'exam'},...\n",
       "2      2       Corliss Zuk  [{'score': 67.03077096065002, 'type': 'exam'},...\n",
       "3      3        Bao Ziglar  [{'score': 71.64343899778332, 'type': 'exam'},...\n",
       "4      4  Zachary Langlais  [{'score': 78.68385091304332, 'type': 'exam'},...\n",
       "..   ...               ...                                                ...\n",
       "195  195     Linnie Weigel  [{'score': 52.44578368517977, 'type': 'exam'},...\n",
       "196  196  Santiago Dollins  [{'score': 52.04052571137036, 'type': 'exam'},...\n",
       "197  197     Tonisha Games  [{'score': 38.51269589995049, 'type': 'exam'},...\n",
       "198  198    Timothy Harrod  [{'score': 11.9075674046519, 'type': 'exam'}, ...\n",
       "199  199        Rae Kohout  [{'score': 82.11742562118049, 'type': 'exam'},...\n",
       "\n",
       "[200 rows x 3 columns]"
      ]
     },
     "execution_count": 4,
     "metadata": {},
     "output_type": "execute_result"
    }
   ],
   "source": [
    "# reading data from json using pandas\n",
    "df = pd.read_json('~/Desktop/students.json',lines=True)\n",
    "df"
   ]
  },
  {
   "cell_type": "code",
   "execution_count": 5,
   "id": "eb1ea6b0",
   "metadata": {},
   "outputs": [],
   "source": [
    "# changing dataframe to dictionary format\n",
    "data = df.to_dict(orient = 'records')"
   ]
  },
  {
   "cell_type": "code",
   "execution_count": 6,
   "id": "a896f870",
   "metadata": {},
   "outputs": [],
   "source": [
    "# creating a database and a collection\n",
    "db = client['students']\n",
    "collection = db['details']"
   ]
  },
  {
   "cell_type": "code",
   "execution_count": 7,
   "id": "fcb4508f",
   "metadata": {},
   "outputs": [
    {
     "data": {
      "text/plain": [
       "<pymongo.results.InsertManyResult at 0x14b716fa7c0>"
      ]
     },
     "execution_count": 7,
     "metadata": {},
     "output_type": "execute_result"
    }
   ],
   "source": [
    "# inserting record into the details collection\n",
    "collection.insert_many(data)"
   ]
  },
  {
   "cell_type": "code",
   "execution_count": 36,
   "id": "1ccb35f7",
   "metadata": {},
   "outputs": [],
   "source": [
    "list(collection.find())"
   ]
  },
  {
   "cell_type": "markdown",
   "id": "97aeddb8",
   "metadata": {},
   "source": [
    "# 1. Students who scored maximum scores in all (exam,quiz and homework)"
   ]
  },
  {
   "cell_type": "code",
   "execution_count": 9,
   "id": "d0a895c9",
   "metadata": {},
   "outputs": [
    {
     "name": "stdout",
     "output_type": "stream",
     "text": [
      "In quiz , Cody Strouth (id : 69) has scored the highest mark 99.80348240553108\n",
      "In exam , Margart Vitello (id : 136) has scored the highest mark 99.33685767140612\n",
      "In homework , Whitley Fears (id : 178) has scored the highest mark 99.77237745070993\n"
     ]
    }
   ],
   "source": [
    "# max_marks_agg id a cursor to the documents containing max marks for each type of exam\n",
    "max_marks_per_type = collection.aggregate([\n",
    "                            {'$unwind' : '$scores'}, # deconstructing a array field and creating documents with each array element\n",
    "                            {'$group' : {'_id': '$scores.type','max_marks':{'$max':'$scores.score'}}}, #group based of the type of exam and finding max marks in it\n",
    "                        ])\n",
    "# max_marks_per_type -output = exam type and max marks only\n",
    "\n",
    "# looping through each document matching max_marks for its type\n",
    "for i in max_marks_per_type:\n",
    "    x = collection.aggregate([\n",
    "        {'$unwind':'$scores'}, # decontructing a array field -scores\n",
    "        {'$match' : {'$and' : [{'scores.type': i['_id']},{'scores.score' : i['max_marks']}]}}]) # querying documents which match the marks and the type from the above result\n",
    "\n",
    "    for j in x: # printing the students list from each type who has scored the highest \n",
    "        print(f\"In {j['scores']['type']} , {j['name']} (id : {j['_id']}) has scored the highest mark {j['scores']['score']}\")"
   ]
  },
  {
   "cell_type": "markdown",
   "id": "22793efc",
   "metadata": {},
   "source": [
    "# 2. Students who scored below average in the exam and passed?"
   ]
  },
  {
   "cell_type": "code",
   "execution_count": 10,
   "id": "423c0e8f",
   "metadata": {},
   "outputs": [],
   "source": [
    "# getting average marks of the exam\n",
    "exam_avg = collection.aggregate([                       \n",
    "                    {'$unwind' : '$scores'},\n",
    "                    {'$match' : {'scores.type':'exam'}},\n",
    "                    {'$group' : {'_id':'$scores.type','avg_mark':{'$avg' : '$scores.score'}}}\n",
    "])\n",
    "exam_avg = list(exam_avg)[0]['avg_mark']\n",
    "\n",
    "# getting list of students having marks below avg and passed in the exam\n",
    "std_bavg_apass_exam1 = collection.aggregate([\n",
    "                    {'$unwind' : '$scores'},\n",
    "                    {'$match' :{'$and' : [{'scores.type':'exam'},{'scores.score' :{'$gte': 40,'$lt': exam_avg}}]}},\n",
    "                    {'$project' : {'name':1}}\n",
    "])\n",
    "std_bavg_apass_exam = list(std_bavg_apass_exam1)"
   ]
  },
  {
   "cell_type": "code",
   "execution_count": 11,
   "id": "d2333c5a",
   "metadata": {},
   "outputs": [
    {
     "name": "stdout",
     "output_type": "stream",
     "text": [
      "No. of students who passed and scored below average in exam : 23\n"
     ]
    }
   ],
   "source": [
    "print(f'No. of students who passed and scored below average in exam : {len(std_bavg_apass_exam)}')"
   ]
  },
  {
   "cell_type": "code",
   "execution_count": 12,
   "id": "04d969e1",
   "metadata": {},
   "outputs": [
    {
     "name": "stdout",
     "output_type": "stream",
     "text": [
      "{'_id': 5, 'name': 'Wilburn Spiess'}\n",
      "{'_id': 10, 'name': 'Denisha Cast'}\n",
      "{'_id': 19, 'name': 'Gisela Levin'}\n",
      "{'_id': 20, 'name': 'Tressa Schwing'}\n",
      "{'_id': 21, 'name': 'Rosana Vales'}\n",
      "{'_id': 23, 'name': 'Tamika Schildgen'}\n",
      "{'_id': 29, 'name': 'Gwyneth Garling'}\n",
      "{'_id': 42, 'name': 'Kayce Kenyon'}\n",
      "{'_id': 45, 'name': 'Terica Brugger'}\n",
      "{'_id': 57, 'name': 'Chad Rahe'}\n",
      "{'_id': 68, 'name': 'Jenise Mcguffie'}\n",
      "{'_id': 89, 'name': 'Cassi Heal'}\n",
      "{'_id': 100, 'name': 'Demarcus Audette'}\n",
      "{'_id': 109, 'name': 'Flora Duell'}\n",
      "{'_id': 126, 'name': 'Quincy Danaher'}\n",
      "{'_id': 128, 'name': 'Alix Sherrill'}\n",
      "{'_id': 142, 'name': 'Laureen Salomone'}\n",
      "{'_id': 143, 'name': 'Gwyneth Garling'}\n",
      "{'_id': 155, 'name': 'Aleida Elsass'}\n",
      "{'_id': 164, 'name': 'Alica Pasley'}\n",
      "{'_id': 167, 'name': 'Malisa Jeanes'}\n",
      "{'_id': 184, 'name': 'Harriett Velarde'}\n",
      "{'_id': 193, 'name': 'Mariela Sherer'}\n"
     ]
    }
   ],
   "source": [
    "for i in std_bavg_apass_exam:\n",
    "    print(i)"
   ]
  },
  {
   "cell_type": "markdown",
   "id": "93563989",
   "metadata": {},
   "source": [
    "# 3. students who scored below pass mark and assigning them as fail, and above pass mark as pass in all the categories.\n"
   ]
  },
  {
   "cell_type": "markdown",
   "id": "9d32ba52",
   "metadata": {},
   "source": [
    "1. students who scored below pass mark in each categories\n",
    "2. students who scored above pass mark in each categories\n",
    "3. students who are assigned fail (if one or more categories failed)\n",
    "4. students who are assigned pass (if all the categories are above pass mark)"
   ]
  },
  {
   "cell_type": "markdown",
   "id": "c62f939b",
   "metadata": {},
   "source": [
    "### 3.1 students who scored below pass mark in each categories\n"
   ]
  },
  {
   "cell_type": "code",
   "execution_count": 13,
   "id": "36f02825",
   "metadata": {},
   "outputs": [],
   "source": [
    "# getting student ids who Failed in each categories\n",
    "\n",
    "\n",
    "std_b_pass_exam1 = collection.aggregate([\n",
    "                        {'$unwind' : '$scores'},\n",
    "                        {'$match' : {'$and' : [{'scores.type':'exam'},{'scores.score' :{'$lt': 40}}]}},\n",
    "                        {'$project' :{'_id' : 1}}\n",
    "])\n",
    "std_b_pass_quiz1 = collection.aggregate([\n",
    "                        {'$unwind' : '$scores'},\n",
    "                        {'$match' : {'$and' : [{'scores.type':'quiz'},{'scores.score' :{'$lt': 40}}]}},\n",
    "                        {'$project' :{'_id' : 1}}\n",
    "])\n",
    "std_b_pass_homework1 = collection.aggregate([\n",
    "                        {'$unwind' : '$scores'},\n",
    "                        {'$match' : {'$and' : [{'scores.type':'homework'},{'scores.score' :{'$lt': 40}}]}},\n",
    "                        {'$project' :{'_id' : 1}}\n",
    "])\n",
    "\n",
    "# creating a array  of embedded documents\n",
    "\n",
    "# below mongodb query creates a array named Results and inserts documents {result_name : Fail}\n",
    "# students who scored below pass in exam \n",
    "for i in std_b_pass_exam1:\n",
    "    collection.update_one({'_id':i['_id']},\n",
    "                    {'$push': {'Results' : {'result_exam':'Fail'}}})\n",
    "# students who scored below pass in quiz\n",
    "for i in std_b_pass_quiz1:\n",
    "    collection.update_one({'_id':i['_id']},\n",
    "                    {'$push': {'Results' : {'result_quiz':'Fail'}}})\n",
    "# students who scored below pass in homework\n",
    "for i in std_b_pass_homework1:\n",
    "    collection.update_one({'_id':i['_id']},\n",
    "                    {'$push': {'Results' : {'result_homework':'Fail'}}})\n"
   ]
  },
  {
   "cell_type": "markdown",
   "id": "18eef058",
   "metadata": {},
   "source": [
    "### 3.2. students who scored above pass mark in each categories"
   ]
  },
  {
   "cell_type": "code",
   "execution_count": 14,
   "id": "1febb192",
   "metadata": {},
   "outputs": [],
   "source": [
    "# getting student names and id who passed in each categories\n",
    "\n",
    "std_a_pass_exam = collection.aggregate([\n",
    "                    {'$unwind' : '$scores'},\n",
    "                    {'$match' :{'$and' : [{'scores.type':'exam'},{'scores.score' :{'$gte': 40}}]}},\n",
    "                    {'$project' : {'name':1}}])\n",
    "std_a_pass_quiz = collection.aggregate([\n",
    "                        {'$unwind' : '$scores'},\n",
    "                        {'$match' : {'$and' : [{'scores.type':'quiz'},{'scores.score' :{'$gte': 40}}]}},\n",
    "                        {'$project' :{'name' : 1}}\n",
    "                    ])\n",
    "std_a_pass_homework = collection.aggregate([\n",
    "                        {'$unwind' : '$scores'},\n",
    "                        {'$match' : {'$and' : [{'scores.type':'homework'},{'scores.score' :{'$gte': 40}}]}},\n",
    "                        {'$project' :{'name' : 1}}\n",
    "])\n",
    "\n",
    "# creating a array  of embedded documents\n",
    "\n",
    "# below mongodb query creates/finds an array named Results and inserts documents {result_name : pass}\n",
    "# students who scored above pass in exam\n",
    "for i in std_a_pass_exam:\n",
    "    collection.update_one({'_id':i['_id']},\n",
    "                     {'$push': {'Results' : {'result_exam':'Pass'}}})\n",
    "# students who scored above pass in quiz\n",
    "for i in std_a_pass_quiz:\n",
    "    collection.update_one({'_id':i['_id']},\n",
    "                     {'$push': {'Results':{'result_quiz':'Pass'}}})\n",
    "# students who scored above pass in homework\n",
    "for i in std_a_pass_homework:\n",
    "    collection.update_one({'_id':i['_id']},\n",
    "                     {'$push': {'Results':{'result_homework':'Pass'}}})"
   ]
  },
  {
   "cell_type": "markdown",
   "id": "a238d33d",
   "metadata": {},
   "source": [
    "### 3.3. students who are assigned fail (if one or many of the categories failed)\n"
   ]
  },
  {
   "cell_type": "code",
   "execution_count": 15,
   "id": "50e0dd5b",
   "metadata": {},
   "outputs": [],
   "source": [
    "# getting students who failed in atleast one category\n",
    "std_failed1 = collection.aggregate([\n",
    "                    {'$unwind': '$scores'},\n",
    "                    {'$match' :{'scores.score' :{'$lt': 40}}},\n",
    "                    {'$group' : {'_id': '$_id','count' : {'$sum':1}}},\n",
    "])\n",
    "\n",
    "# inserting a field called overall result and assigning them as fail \n",
    "\n",
    "for i in std_failed1:\n",
    "    collection.update_one(\n",
    "                     {'_id': i['_id']},\n",
    "                     {'$set': {'overall_result': 'Fail'}}\n",
    "    )"
   ]
  },
  {
   "cell_type": "markdown",
   "id": "fe41209a",
   "metadata": {},
   "source": [
    "### 3.4. students who are assigned pass (if all the categories are above pass mark)\n"
   ]
  },
  {
   "cell_type": "code",
   "execution_count": 16,
   "id": "9289067a",
   "metadata": {},
   "outputs": [],
   "source": [
    "# getting students who passed in all category\n",
    "std_passed1 = collection.aggregate([\n",
    "                    {'$unwind': '$scores'},\n",
    "                    {'$match' :{'scores.score' :{'$gte': 40}}},\n",
    "                    {'$group' : {'_id': '$_id','count' : {'$sum':1}}}\n",
    "])\n",
    "\n",
    "# inserting a field called overall result and assigning them as pass\n",
    "\n",
    "for i in std_passed1:\n",
    "    if i['count'] == 3:\n",
    "        collection.update_one(\n",
    "            {'_id' : i['_id']},\n",
    "            {'$set': {'overall_result':'Pass'}}\n",
    "    )"
   ]
  },
  {
   "cell_type": "markdown",
   "id": "5a60f7c5",
   "metadata": {},
   "source": [
    "# 4. The total and average of the exam, quiz and homework and store them in a separate collection"
   ]
  },
  {
   "cell_type": "markdown",
   "id": "1f89fbe9",
   "metadata": {},
   "source": [
    "1. finding the total and average of the exam ,quiz,homework for each students and storing them in a new collection\n",
    "2. finding the total and average of the exam ,quiz,homework and storing them in a new collection\n"
   ]
  },
  {
   "cell_type": "markdown",
   "id": "c2e0e171",
   "metadata": {},
   "source": [
    "### 4.1. finding the total and average of the exam ,quiz,homework for each students and storing them in a new collection\n"
   ]
  },
  {
   "cell_type": "code",
   "execution_count": 35,
   "id": "321101da",
   "metadata": {},
   "outputs": [],
   "source": [
    "# finding the total and average of the exam , quiz ,homework for each students\n",
    "\n",
    "\n",
    "std_avg_total = collection.aggregate([\n",
    "                {'$unwind': '$scores'},\n",
    "                {'$group' :\n",
    "                     {'_id' : '$_id', \n",
    "                     'avg': {'$avg' : '$scores.score'},\n",
    "                     'total' : {'$sum':'$scores.score'}}},\n",
    "                {'$project':{'_id':1,'name':1,'avg':1,'total':1}},\n",
    "                {'$sort': {'_id':1}},\n",
    "])\n",
    "\n",
    "# list of ids and their totals and average of 3 categories\n",
    "std_list_avg_total = list(std_avg_total)\n",
    "# std_list_avg_total"
   ]
  },
  {
   "cell_type": "code",
   "execution_count": 18,
   "id": "357726d1",
   "metadata": {},
   "outputs": [
    {
     "data": {
      "text/plain": [
       "<pymongo.results.InsertManyResult at 0x14b716fa7f0>"
      ]
     },
     "execution_count": 18,
     "metadata": {},
     "output_type": "execute_result"
    }
   ],
   "source": [
    "# creating a collection named 'students_avg_total' and storing the above result in it\n",
    "db['students_avg_total'].insert_many(std_list_avg_total)"
   ]
  },
  {
   "cell_type": "markdown",
   "id": "a4a92359",
   "metadata": {},
   "source": [
    "### 4.2. finding the total and average of the exam ,quiz,homework and storing them in a new collection\n"
   ]
  },
  {
   "cell_type": "code",
   "execution_count": 19,
   "id": "75ac3e34",
   "metadata": {},
   "outputs": [],
   "source": [
    "# find the total and average of the exam , quiz and home work\n",
    "type_avg_total = collection.aggregate([\n",
    "                    {'$unwind': '$scores'},\n",
    "                    {'$group': \n",
    "                             {'_id' : '$scores.type',\n",
    "                             'total':{'$sum':'$scores.score'},\n",
    "                             'avg' :{'$avg':'$scores.score'}}\n",
    "                    },\n",
    "                    {'$sort':{'_id':1}}\n",
    "])\n",
    "list_type_avg_total = list(type_avg_total)"
   ]
  },
  {
   "cell_type": "code",
   "execution_count": 20,
   "id": "0ea8675e",
   "metadata": {},
   "outputs": [
    {
     "data": {
      "text/plain": [
       "<pymongo.results.InsertManyResult at 0x14b716fa3d0>"
      ]
     },
     "execution_count": 20,
     "metadata": {},
     "output_type": "execute_result"
    }
   ],
   "source": [
    "# creating a collection named 'type_avg_total' and storing the above result in it\n",
    "db['type_avg_total'].insert_many(list_type_avg_total)"
   ]
  },
  {
   "cell_type": "markdown",
   "id": "7ed2962d",
   "metadata": {},
   "source": [
    "# 5.  Create a new collection which consists of students who scored below average and above 40% in all the categories.\n"
   ]
  },
  {
   "cell_type": "markdown",
   "id": "a57598d7",
   "metadata": {},
   "source": [
    "1. finding students who scored below average and above 40 % in all the categories\n",
    "2. finding students who scored below average and above 40% for each categories"
   ]
  },
  {
   "cell_type": "code",
   "execution_count": 21,
   "id": "d9eaafdd",
   "metadata": {},
   "outputs": [
    {
     "name": "stdout",
     "output_type": "stream",
     "text": [
      "avg_quiz : 48.99672319430254\n",
      "avg_homework : 67.81869620661149\n",
      "avg_exam : 48.67367075950175\n"
     ]
    }
   ],
   "source": [
    "# getting avg for each categories\n",
    "avg_exam = list_type_avg_total[0]['avg']\n",
    "avg_quiz = list_type_avg_total[2]['avg']\n",
    "avg_homework = list_type_avg_total[1]['avg']\n",
    "print(f'avg_quiz : {avg_quiz}\\navg_homework : {avg_homework}\\navg_exam : {avg_exam}')"
   ]
  },
  {
   "cell_type": "markdown",
   "id": "538efa9f",
   "metadata": {},
   "source": [
    "### 5.1 finding students who scored below average and above 40 % in all the categories\n"
   ]
  },
  {
   "cell_type": "code",
   "execution_count": 22,
   "id": "8237e6d6",
   "metadata": {},
   "outputs": [],
   "source": [
    "bavg_apass_all1 = collection.aggregate([\n",
    "                            {'$unwind': '$scores'},\n",
    "                            {'$match': \n",
    "                             {'$and': [\n",
    "                                   {'$and': [{'scores.type':'exam'},\n",
    "                                             {'scores.score':{'$lt':avg_exam,'$gte' :40}}]},\n",
    "                                    \n",
    "                                   {'$and': [{'scores.type':'quiz'},\n",
    "                                             {'scores.score':{'$lt':avg_quiz,'$gte' :40}}]},\n",
    "                                    \n",
    "                                   {'$and': [{'scores.type':'homework'},\n",
    "                                             {'scores.score':{'$lt':avg_homework,'$gte' :40}}]}\n",
    "                                ]}\n",
    "                                },\n",
    "                        {'$group': {'_id':'$_id','count':{'$sum':1}}}\n",
    "])\n",
    "bavg_apass_all = list(bavg_apass_all1)\n",
    "# print(len(bavg_apass_all))\n",
    "# since there is no one matchs the condition for all the categories the data is zero and can't create a collection"
   ]
  },
  {
   "cell_type": "markdown",
   "id": "732ea21e",
   "metadata": {},
   "source": [
    "### 5.2 finding students who scored below average and above 40% for each categories"
   ]
  },
  {
   "cell_type": "code",
   "execution_count": 23,
   "id": "52c90e06",
   "metadata": {},
   "outputs": [],
   "source": [
    "# list of students who scored below average and above 40 % for each categories\n",
    "bavg_apass_any1 = collection.aggregate([\n",
    "                            {'$unwind': '$scores'},\n",
    "                            {'$match': \n",
    "                             {'$or': [\n",
    "                                   {'$and': [{'scores.type':'exam'},\n",
    "                                             {'scores.score':{'$lt':avg_exam,'$gte' :40}}]},\n",
    "                                    \n",
    "                                   {'$and': [{'scores.type':'quiz'},\n",
    "                                             {'scores.score':{'$lt':avg_quiz,'$gte' :40}}]},\n",
    "                                    \n",
    "                                   {'$and': [{'scores.type':'homework'},\n",
    "                                             {'scores.score':{'$lt':avg_homework,'$gte' :40}}]}\n",
    "                                ]}\n",
    "                                },\n",
    "])\n",
    "bavg_apass_any = list(bavg_apass_any1)\n",
    "# print(len(bavg_apass_any))\n"
   ]
  },
  {
   "cell_type": "code",
   "execution_count": 24,
   "id": "5bd73667",
   "metadata": {},
   "outputs": [],
   "source": [
    "# initializing a collection name\n",
    "std_bavg_apass = db['std_bavg_apass']\n",
    "# this collection consists of documents containg id , name , categories in which the student scored below average and above 40% in each categories(array of embedded documents)"
   ]
  },
  {
   "cell_type": "code",
   "execution_count": 25,
   "id": "8b2a4440",
   "metadata": {},
   "outputs": [],
   "source": [
    "# ids of the students who scored below average and above 40% for each categories\n",
    "bavg_apass_any_ids = collection.aggregate([\n",
    "                            {'$unwind': '$scores'},\n",
    "                            {'$match': \n",
    "                             {'$or': [\n",
    "                                   {'$and': [{'scores.type':'exam'},\n",
    "                                             {'scores.score':{'$lt':avg_exam,'$gte' :40}}]},\n",
    "                                    \n",
    "                                   {'$and': [{'scores.type':'quiz'},\n",
    "                                             {'scores.score':{'$lt':avg_quiz,'$gte' :40}}]},\n",
    "                                    \n",
    "                                   {'$and': [{'scores.type':'homework'},\n",
    "                                             {'scores.score':{'$lt':avg_homework,'$gte' :40}}]}\n",
    "                                ]}\n",
    "                                },\n",
    "                        {'$group': {'_id':'$_id'}}\n",
    "])\n",
    "ids_bavg_apass = list(bavg_apass_any_ids)"
   ]
  },
  {
   "cell_type": "code",
   "execution_count": 26,
   "id": "bcc4ca4d",
   "metadata": {},
   "outputs": [
    {
     "data": {
      "text/plain": [
       "<pymongo.results.InsertManyResult at 0x14b71733790>"
      ]
     },
     "execution_count": 26,
     "metadata": {},
     "output_type": "execute_result"
    }
   ],
   "source": [
    "# creating a collection using ids\n",
    "std_bavg_apass.insert_many(ids_bavg_apass)"
   ]
  },
  {
   "cell_type": "code",
   "execution_count": 27,
   "id": "aa8f5f7d",
   "metadata": {},
   "outputs": [],
   "source": [
    "# updating the documents of the collection 'std_bavg_apass'\n",
    "for i in bavg_apass_any:\n",
    "    name = i['name']\n",
    "    type_1 = i['scores']['type']\n",
    "    std_bavg_apass.update_one({'_id':i['_id']},\n",
    "                           {'$set': {'name':name}})\n",
    "    std_bavg_apass.update_one({'_id':i['_id']},\n",
    "                           {'$push': {'apass_bavg':{'type':type_1}}})"
   ]
  },
  {
   "cell_type": "markdown",
   "id": "7430dbf6",
   "metadata": {},
   "source": [
    "# 6. Create a new collection which consists of students who scored below the fail mark in all the categories."
   ]
  },
  {
   "cell_type": "markdown",
   "id": "8829c815",
   "metadata": {},
   "source": [
    "1. creating a collection in which students failed in any categories\n",
    "2. creating a collection in which students passed in all"
   ]
  },
  {
   "cell_type": "markdown",
   "id": "f5646956",
   "metadata": {},
   "source": [
    "### 6.1. creating a collection in which students failed in any categories\n"
   ]
  },
  {
   "cell_type": "code",
   "execution_count": 28,
   "id": "894bdaf1",
   "metadata": {},
   "outputs": [],
   "source": [
    "# list of students failed in atleast one category\n",
    "std_failed1 = collection.aggregate([\n",
    "                    {'$unwind': '$scores'},\n",
    "                    {'$match' :{'scores.score' :{'$lt': 40}}},\n",
    "])\n"
   ]
  },
  {
   "cell_type": "code",
   "execution_count": 29,
   "id": "e48cd252",
   "metadata": {},
   "outputs": [],
   "source": [
    "# initializing a collection\n",
    "std_fail_any = db['std_fail_any']"
   ]
  },
  {
   "cell_type": "code",
   "execution_count": 30,
   "id": "d9f75f6a",
   "metadata": {},
   "outputs": [
    {
     "data": {
      "text/plain": [
       "<pymongo.results.InsertManyResult at 0x14b717035b0>"
      ]
     },
     "execution_count": 30,
     "metadata": {},
     "output_type": "execute_result"
    }
   ],
   "source": [
    "# getting the ids of the students failed\n",
    "std_failed_ids = collection.aggregate([\n",
    "                            {'$unwind': '$scores'},\n",
    "                            {'$match' :{'scores.score' :{'$lt': 40}}},\n",
    "                            {'$group': {'_id':'$_id'}}\n",
    "])\n",
    "ids_std_failed = list(std_failed_ids)\n",
    "# creating a collection named 'std_fail_any' using only ids of the students failed\n",
    "std_fail_any.insert_many(ids_std_failed)"
   ]
  },
  {
   "cell_type": "code",
   "execution_count": 31,
   "id": "6b119602",
   "metadata": {},
   "outputs": [],
   "source": [
    "# updating the documents of the collection 'std_fail_any' with the name and \n",
    "# failed types(array of embedded documents)\n",
    "for i in std_failed1:\n",
    "    name = i['name']\n",
    "    type_1 = i['scores']['type']\n",
    "    std_fail_any.update_one({'_id':i['_id']},\n",
    "                           {'$set': {'name':name}})\n",
    "    std_fail_any.update_one({'_id':i['_id']},\n",
    "                           {'$push': {'Failed type(s)':{'type':type_1}}})"
   ]
  },
  {
   "cell_type": "markdown",
   "id": "911f36ec",
   "metadata": {},
   "source": [
    "### 6.2. creating a collection in which students passed in all"
   ]
  },
  {
   "cell_type": "code",
   "execution_count": 32,
   "id": "efd999c7",
   "metadata": {},
   "outputs": [],
   "source": [
    "# ids of the students who passed in each categories\n",
    "std_pass_any_ids = collection.aggregate([\n",
    "                    {'$unwind': '$scores'},\n",
    "                    {'$match' :{'scores.score':{'$gte': 40}}},\n",
    "                    {'$group' :{'_id':{'_id':'$_id','name':'$name'},'count':{'$sum':1}}},\n",
    "])\n",
    "ids_std_pass_list = list(std_pass_any_ids)"
   ]
  },
  {
   "cell_type": "code",
   "execution_count": 33,
   "id": "08225280",
   "metadata": {},
   "outputs": [],
   "source": [
    "# initializing a collection\n",
    "std_allpass = db['std_allpass']\n",
    "# this collection consists of id and name of the students who passed all the categories"
   ]
  },
  {
   "cell_type": "code",
   "execution_count": 34,
   "id": "7d7d8050",
   "metadata": {},
   "outputs": [],
   "source": [
    "# filtering the ids of the students who passed in all categories and uploading their information into a collection named 'std_allpass'\n",
    "for i in ids_std_pass_list:\n",
    "   if i['count'] == 3:\n",
    "        firstpair = i['_id']\n",
    "        id1 = firstpair['_id']\n",
    "        name = firstpair['name']\n",
    "        std_allpass.insert_one({'_id':id1,'name':name})"
   ]
  }
 ],
 "metadata": {
  "kernelspec": {
   "display_name": "Python 3 (ipykernel)",
   "language": "python",
   "name": "python3"
  },
  "language_info": {
   "codemirror_mode": {
    "name": "ipython",
    "version": 3
   },
   "file_extension": ".py",
   "mimetype": "text/x-python",
   "name": "python",
   "nbconvert_exporter": "python",
   "pygments_lexer": "ipython3",
   "version": "3.9.12"
  }
 },
 "nbformat": 4,
 "nbformat_minor": 5
}
